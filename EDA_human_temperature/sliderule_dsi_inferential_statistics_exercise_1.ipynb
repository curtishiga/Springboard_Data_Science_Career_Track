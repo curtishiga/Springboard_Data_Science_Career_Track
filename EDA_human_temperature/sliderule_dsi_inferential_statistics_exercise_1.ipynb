{
 "cells": [
  {
   "cell_type": "markdown",
   "metadata": {},
   "source": [
    "# What is the True Normal Human Body Temperature? \n",
    "\n",
    "#### Background\n",
    "\n",
    "The mean normal body temperature was held to be 37$^{\\circ}$C or 98.6$^{\\circ}$F for more than 120 years since it was first conceptualized and reported by Carl Wunderlich in a famous 1868 book. But, is this value statistically correct?"
   ]
  },
  {
   "cell_type": "markdown",
   "metadata": {},
   "source": [
    "<h3>Exercises</h3>\n",
    "\n",
    "<p>In this exercise, you will analyze a dataset of human body temperatures and employ the concepts of hypothesis testing, confidence intervals, and statistical significance.</p>\n",
    "\n",
    "<p>Answer the following questions <b>in this notebook below and submit to your Github account</b>.</p> \n",
    "\n",
    "<ol>\n",
    "<li>  Is the distribution of body temperatures normal? \n",
    "    <ul>\n",
    "    <li> Although this is not a requirement for the Central Limit Theorem to hold (read the introduction on Wikipedia's page about the CLT carefully: https://en.wikipedia.org/wiki/Central_limit_theorem), it gives us some peace of mind that the population may also be normally distributed if we assume that this sample is representative of the population.\n",
    "    <li> Think about the way you're going to check for the normality of the distribution. Graphical methods are usually used first, but there are also other ways: https://en.wikipedia.org/wiki/Normality_test\n",
    "    </ul>\n",
    "<li>  Is the sample size large? Are the observations independent?\n",
    "    <ul>\n",
    "    <li> Remember that this is a condition for the Central Limit Theorem, and hence the statistical tests we are using, to apply.\n",
    "    </ul>\n",
    "<li>  Is the true population mean really 98.6 degrees F?\n",
    "    <ul>\n",
    "    <li> First, try a bootstrap hypothesis test.\n",
    "    <li> Now, let's try frequentist statistical testing. Would you use a one-sample or two-sample test? Why?\n",
    "    <li> In this situation, is it appropriate to use the $t$ or $z$ statistic? \n",
    "    <li> Now try using the other test. How is the result be different? Why?\n",
    "    </ul>\n",
    "<li>  Draw a small sample of size 10 from the data and repeat both frequentist tests. \n",
    "    <ul>\n",
    "    <li> Which one is the correct one to use? \n",
    "    <li> What do you notice? What does this tell you about the difference in application of the $t$ and $z$ statistic?\n",
    "    </ul>\n",
    "<li>  At what temperature should we consider someone's temperature to be \"abnormal\"?\n",
    "    <ul>\n",
    "    <li> As in the previous example, try calculating everything using the boostrap approach, as well as the frequentist approach.\n",
    "    <li> Start by computing the margin of error and confidence interval. When calculating the confidence interval, keep in mind that you should use the appropriate formula for one draw, and not N draws.\n",
    "    </ul>\n",
    "<li>  Is there a significant difference between males and females in normal temperature?\n",
    "    <ul>\n",
    "    <li> What testing approach did you use and why?\n",
    "    <li> Write a story with your conclusion in the context of the original problem.\n",
    "    </ul>\n",
    "</ol>\n",
    "\n",
    "You can include written notes in notebook cells using Markdown: \n",
    "   - In the control panel at the top, choose Cell > Cell Type > Markdown\n",
    "   - Markdown syntax: http://nestacms.com/docs/creating-content/markdown-cheat-sheet\n",
    "\n",
    "#### Resources\n",
    "\n",
    "+ Information and data sources: http://www.amstat.org/publications/jse/datasets/normtemp.txt, http://www.amstat.org/publications/jse/jse_data_archive.htm\n",
    "+ Markdown syntax: http://nestacms.com/docs/creating-content/markdown-cheat-sheet\n",
    "\n",
    "****"
   ]
  },
  {
   "cell_type": "code",
   "execution_count": 1,
   "metadata": {},
   "outputs": [],
   "source": [
    "import pandas as pd\n",
    "\n",
    "df = pd.read_csv('data/human_body_temperature.csv')"
   ]
  },
  {
   "cell_type": "code",
   "execution_count": 2,
   "metadata": {},
   "outputs": [
    {
     "name": "stdout",
     "output_type": "stream",
     "text": [
      "   temperature gender  heart_rate\n",
      "0         99.3      F        68.0\n",
      "1         98.4      F        81.0\n",
      "2         97.8      M        73.0\n",
      "3         99.2      F        66.0\n",
      "4         98.0      F        73.0\n"
     ]
    }
   ],
   "source": [
    "import numpy as np\n",
    "import matplotlib.pyplot as plt\n",
    "import seaborn as sns\n",
    "import scipy.stats as stats\n",
    "import pylab\n",
    "\n",
    "print(df.head())"
   ]
  },
  {
   "cell_type": "code",
   "execution_count": 3,
   "metadata": {},
   "outputs": [
    {
     "name": "stdout",
     "output_type": "stream",
     "text": [
      "       temperature  heart_rate\n",
      "count   130.000000  130.000000\n",
      "mean     98.249231   73.761538\n",
      "std       0.733183    7.062077\n",
      "min      96.300000   57.000000\n",
      "25%      97.800000   69.000000\n",
      "50%      98.300000   74.000000\n",
      "75%      98.700000   79.000000\n",
      "max     100.800000   89.000000\n"
     ]
    }
   ],
   "source": [
    "print(df.describe())"
   ]
  },
  {
   "cell_type": "code",
   "execution_count": 31,
   "metadata": {},
   "outputs": [],
   "source": [
    "# Common variables to use for this project\n",
    "temps = df['temperature']\n",
    "temps_len = len(temps)\n",
    "temps_mean = np.mean(temps)\n",
    "temps_std = np.std(temps)"
   ]
  },
  {
   "cell_type": "markdown",
   "metadata": {
    "collapsed": true
   },
   "source": [
    "## ** 1) Is the distribution of body temperatures normal? **"
   ]
  },
  {
   "cell_type": "markdown",
   "metadata": {},
   "source": [
    "To test whether the data is normally distributed, I'll be using the Shapiro-Wilks Test for normality. For this, I will assume the data comes from a normally distributed population as my null hypothesis.\n",
    "+ $H_{0}$: The data comes from a normally distributed population.\n",
    "+ $H_{1}$: The data does not come from a normally distributed population.\n",
    "\n",
    "Before I do so, I want to take a look at the data by graphing a histogram and ECDF."
   ]
  },
  {
   "cell_type": "code",
   "execution_count": 5,
   "metadata": {},
   "outputs": [
    {
     "data": {
      "image/png": "[encoded data removed]",
      "text/plain": [
       "<Figure size 960x640 with 1 Axes>"
      ]
     },
     "metadata": {},
     "output_type": "display_data"
    }
   ],
   "source": [
    "# Plot the histogram of temperature data\n",
    "plt.figure(figsize=(12, 8), dpi= 80, facecolor='w', edgecolor='k')\n",
    "_ = plt.hist('temperature', data = df, bins = int(np.sqrt(130)))\n",
    "_ = plt.xlabel('Temperature')\n",
    "_ = plt.ylabel('Count')"
   ]
  },
  {
   "cell_type": "code",
   "execution_count": 6,
   "metadata": {
    "scrolled": false
   },
   "outputs": [
    {
     "data": {
      "image/png": "[encoded data removed]",
      "text/plain": [
       "<Figure size 960x640 with 1 Axes>"
      ]
     },
     "metadata": {},
     "output_type": "display_data"
    }
   ],
   "source": [
    "# Plot ECDF of temperature data\n",
    "plt.figure(figsize=(12, 8), dpi= 80, facecolor='w', edgecolor='k')\n",
    "x = np.sort(temps)\n",
    "y = np.arange(1, len(x) + 1) / len(x)\n",
    "_ = plt.plot(x, y, marker='.', linestyle='none')\n",
    "_ = plt.xlabel('Temperature')\n",
    "_ = plt.ylabel('ECDF')"
   ]
  },
  {
   "cell_type": "markdown",
   "metadata": {},
   "source": [
    "Although the histogram looks like a normal distribution, with a slight right skew, I want to be sure by comparing it with the Shapiro-Wilk Test. With the Shapiro-Wilk test, I'm testing the null hypothesis that the data set is of normality with a alpha, or p-value, of 0.05. If my test statistic is 1 or close to one, that indicates normality and getting a p-value greater than our alpha, I fail to reject the null hypothesis."
   ]
  },
  {
   "cell_type": "code",
   "execution_count": 7,
   "metadata": {},
   "outputs": [
    {
     "name": "stdout",
     "output_type": "stream",
     "text": [
      "(0.9865770936012268, 0.233174666762352)\n"
     ]
    }
   ],
   "source": [
    "# Get the p-value of temperature data using Shapio-Wilk test\n",
    "stat, p = stats.shapiro(temps)\n",
    "print(stat, p)"
   ]
  },
  {
   "cell_type": "markdown",
   "metadata": {},
   "source": [
    "As shown above, I got a test statistic of 0.987 and a p-value of 0.23 which is greater than 0.05 meaning the data is approximately normal and the probability of getting that result was significant. Therefore I fail to reject the null hypothesis and therefore can't reject that the data set is normal. However, this doesn't prove normality. For that I'll have to do additional tests like a Q-Q plt."
   ]
  },
  {
   "cell_type": "code",
   "execution_count": 8,
   "metadata": {},
   "outputs": [
    {
     "data": {
      "image/png": "[encoded data removed]",
      "text/plain": [
       "<Figure size 432x288 with 1 Axes>"
      ]
     },
     "metadata": {},
     "output_type": "display_data"
    }
   ],
   "source": [
    "# Make a Q-Q plot for additional evidence for normality\n",
    "stats.probplot(temps, dist='norm', plot=pylab)\n",
    "pylab.show()"
   ]
  },
  {
   "cell_type": "markdown",
   "metadata": {},
   "source": [
    "By looking at this plot and comparing it to the red line, the data seems to be normally distributed with a slight emphasis at the tails."
   ]
  },
  {
   "cell_type": "markdown",
   "metadata": {},
   "source": [
    "## ** 2) Is the sample size large? Are the observations independent? **"
   ]
  },
  {
   "cell_type": "markdown",
   "metadata": {},
   "source": [
    "To satisfy conditions of the Central Limit Theorem, the data set must be greater than 30 observations. If we look at df.describe(), we see that there are 130 total observations. This means that this data set is large enough to to make statistical inferences on the true population. We can assume each observation is independent as well since it's well below 10% of the true population."
   ]
  },
  {
   "cell_type": "markdown",
   "metadata": {},
   "source": [
    "## ** 3) Is the true population mean really 98.6 degrees F? **"
   ]
  },
  {
   "cell_type": "code",
   "execution_count": 9,
   "metadata": {},
   "outputs": [],
   "source": [
    "# Create a function that will sample data, take the mean, and store it in an array\n",
    "def bs_mean(data, size=1):\n",
    "    \"\"\" This function takes 'size' number of points from 'data' a 'run' number \n",
    "     of times and returns an array of means for each run \"\"\"\n",
    "    \n",
    "    # Set the seed number\n",
    "    np.random.seed(25)\n",
    "    \n",
    "    samples = np.empty(size)\n",
    "    for i in range(size):\n",
    "        sample = np.random.choice(data, len(data))\n",
    "        samples[i] = np.mean(sample)\n",
    "    return samples"
   ]
  },
  {
   "cell_type": "code",
   "execution_count": 10,
   "metadata": {},
   "outputs": [
    {
     "name": "stderr",
     "output_type": "stream",
     "text": [
      "C:\\Users\\Curtis\\Miniconda2\\lib\\site-packages\\matplotlib\\axes\\_axes.py:6462: UserWarning: The 'normed' kwarg is deprecated, and has been replaced by the 'density' kwarg.\n",
      "  warnings.warn(\"The 'normed' kwarg is deprecated, and has been \"\n"
     ]
    },
    {
     "data": {
      "image/png": "[encoded data removed]",
      "text/plain": [
       "<Figure size 432x288 with 1 Axes>"
      ]
     },
     "metadata": {},
     "output_type": "display_data"
    }
   ],
   "source": [
    "# Develop bootstrap sample of mean temperature data\n",
    "sample_means = bs_mean(temps, size = 10000)\n",
    "_ = plt.hist(sample_means, bins = 100, normed=True)\n",
    "_ = plt.xlabel('Temperature')\n",
    "_ = plt.ylabel('PDF')"
   ]
  },
  {
   "cell_type": "code",
   "execution_count": 24,
   "metadata": {},
   "outputs": [
    {
     "name": "stdout",
     "output_type": "stream",
     "text": [
      "98.24952776923077\n",
      "[98.12384615 98.37386538]\n"
     ]
    }
   ],
   "source": [
    "print(np.mean(sample_means))\n",
    "confidence_inter = np.percentile(sample_means, [2.5, 97.5])\n",
    "print(confidence_inter)"
   ]
  },
  {
   "cell_type": "markdown",
   "metadata": {},
   "source": [
    "This distribution seems to be normalized around 98.2 degrees and 98.3 degrees with a 95% confidence interval between 98.1 degrees and 98.4 degrees. From this data set, it doesn't seem like the true population mean is 98.6 but a one-sample bootstrap hypothesis test can help confirm that.\n",
    "\n",
    "For my hypothesis test, I propose a null hypothesis of that the mean of the data is 98.6 degrees. \n",
    "+ $H_{0}$: The true population mean temperature of the data is 98.6 degrees.\n",
    "+ $H_{1}$: The true population mean temperature of the data is not 98.6 degrees.\n",
    "\n",
    "In order to make a hypothesis test, I need to shift the data so that the mean is 98.6 degrees and come up with a test statistic and p-value. Here, the test statistic will be the difference of the shifted data from 98.6 degrees."
   ]
  },
  {
   "cell_type": "code",
   "execution_count": 12,
   "metadata": {},
   "outputs": [
    {
     "name": "stdout",
     "output_type": "stream",
     "text": [
      "The observed mean difference is: -0.350769\n",
      "0.0\n"
     ]
    },
    {
     "data": {
      "image/png": "[encoded data removed]",
      "text/plain": [
       "<Figure size 432x288 with 1 Axes>"
      ]
     },
     "metadata": {},
     "output_type": "display_data"
    }
   ],
   "source": [
    "true_pop_mean = 98.6\n",
    "\n",
    "# Shift the data so the mean is 98.6\n",
    "temp_shifted = temps - temps_mean + true_pop_mean\n",
    "\n",
    "# Calculate the observed difference of the mean and true population mean, 98.6\n",
    "obs_mean_diff = temps_mean - true_pop_mean\n",
    "print('The observed mean difference is: %f' %obs_mean_diff)\n",
    "\n",
    "# Perform a bootstrap sample and replicate of the difference from the true population mean\n",
    "bs_temp_shifted = bs_mean(temp_shifted, size=10000)\n",
    "bs_temp_shifted = bs_temp_shifted - true_pop_mean\n",
    "\n",
    "# Plot bs_temp_shifted\n",
    "_ = plt.hist(bs_temp_shifted, bins = 100, normed=True)\n",
    "\n",
    "# Calculate the p-value\n",
    "p_value = np.sum(bs_temp_shifted <= obs_mean_diff)/len(bs_temp_shifted)\n",
    "print(float(p_value))"
   ]
  },
  {
   "cell_type": "markdown",
   "metadata": {},
   "source": [
    "Given this p-value, in 10,000 trials, not one had a difference in means less than or equal to the observed mean difference. This is significant enough to reject the null hypothesis and conclude that the true population mean temperature is not 98.6 degrees.\n",
    "\n",
    "Other ways to test if there's a difference is to use the t/z statistics. The t-statistic would be more useful in this situation  since we don't know the true population's standard deviation."
   ]
  },
  {
   "cell_type": "code",
   "execution_count": 13,
   "metadata": {},
   "outputs": [
    {
     "name": "stdout",
     "output_type": "stream",
     "text": [
      "-5.4759252020785585\n",
      "2.1887464624050777e-07\n"
     ]
    }
   ],
   "source": [
    "# Compute the t-statistic & p-value\n",
    "t_stat = (temps_mean - true_pop_mean)/(temps_std/np.sqrt(temps_len))\n",
    "print(t_stat)\n",
    "p_val = stats.t.sf(np.abs(t_stat), temps_len - 1) * 2\n",
    "print(p_val)"
   ]
  },
  {
   "cell_type": "code",
   "execution_count": 14,
   "metadata": {},
   "outputs": [],
   "source": [
    "np.random.seed(25)\n",
    "true_pop = np.random.normal(temps_mean, size=temps_len)\n",
    "true_pop_std = np.std(true_pop)"
   ]
  },
  {
   "cell_type": "code",
   "execution_count": 15,
   "metadata": {},
   "outputs": [
    {
     "name": "stdout",
     "output_type": "stream",
     "text": [
      "-3.784129208702819\n",
      "0.0001542476790167228\n"
     ]
    }
   ],
   "source": [
    "# Calculate the z-statistic & p-value\n",
    "z_stat = (temps_mean - true_pop_mean)/(true_pop_std/np.sqrt(temps_len))\n",
    "print(z_stat)\n",
    "p_val_z = stats.norm.sf(np.abs(z_stat))*2\n",
    "print(p_val_z)"
   ]
  },
  {
   "cell_type": "markdown",
   "metadata": {},
   "source": [
    "Both the t and z test produced similarly small p-values that are significant with a threshold of 0.05. However, for the z-statistic, we had to produce/simulate a normal distribution of the population to get the population's standard deviation."
   ]
  },
  {
   "cell_type": "markdown",
   "metadata": {},
   "source": [
    "## ** 4) Draw a small sample of size 10 from the data and repeat both frequentist tests. **"
   ]
  },
  {
   "cell_type": "markdown",
   "metadata": {},
   "source": [
    "Here, the correct test to use is the t statistic because it works better for smaller sample sizes. A condition to use the z statistic is that the sample distribution has to be normally distributed. When the sample size is too small, the Central Limit Theorem doesn't apply and therefore isn't normal. That's why as the sample size increases, the t statistic approaches the z statistic."
   ]
  },
  {
   "cell_type": "code",
   "execution_count": 16,
   "metadata": {},
   "outputs": [],
   "source": [
    "# Draw out 10 samples from the data\n",
    "np.random.seed(25)\n",
    "sample_10 = np.random.choice(temps, size = 10)\n",
    "sample_10_mean = np.mean(sample_10)\n",
    "sample_10_std = np.std(sample_10)"
   ]
  },
  {
   "cell_type": "code",
   "execution_count": 17,
   "metadata": {},
   "outputs": [
    {
     "name": "stdout",
     "output_type": "stream",
     "text": [
      "-0.23138617025612185\n",
      "0.8221897065992507\n"
     ]
    }
   ],
   "source": [
    "t_stat_10 = (sample_10_mean - true_pop_mean)/(sample_10_std/np.sqrt(10))\n",
    "print(t_stat_10)\n",
    "pv_t_10 = stats.t.sf(np.abs(t_stat_10), 9)*2\n",
    "print(pv_t_10)"
   ]
  },
  {
   "cell_type": "markdown",
   "metadata": {},
   "source": [
    "Again, we're going to simulate a normal distribution for the population to get the standard deviation of 10 samples from the population."
   ]
  },
  {
   "cell_type": "code",
   "execution_count": 18,
   "metadata": {},
   "outputs": [],
   "source": [
    "true_pop_10 = np.random.normal(temps_mean, size=10)\n",
    "true_pop_10_std = np.std(true_pop_10)"
   ]
  },
  {
   "cell_type": "code",
   "execution_count": 19,
   "metadata": {},
   "outputs": [
    {
     "name": "stdout",
     "output_type": "stream",
     "text": [
      "-0.09194790168237833\n",
      "0.9267394325894208\n"
     ]
    }
   ],
   "source": [
    "z_stat_10 = (sample_10_mean - true_pop_mean)/(true_pop_10_std/np.sqrt(10))\n",
    "print(z_stat_10)\n",
    "pv_z_10 = stats.norm.sf(np.abs(z_stat_10))*2\n",
    "print(pv_z_10)"
   ]
  },
  {
   "cell_type": "markdown",
   "metadata": {},
   "source": [
    "## ** 5) At what temperature should we consider someone's temperature to be \"abnormal\"? **"
   ]
  },
  {
   "cell_type": "markdown",
   "metadata": {},
   "source": [
    "- As in the previous example, try calculating everything using the boostrap approach, as well as the frequentist approach.\n",
    "- Start by computing the margin of error and confidence interval. When calculating the confidence interval, keep in mind that you should use the appropriate formula for one draw, and not N draws."
   ]
  },
  {
   "cell_type": "markdown",
   "metadata": {},
   "source": [
    "In problem 3, we took the bootstrap replicate of the mean to be 98.25 degrees. If we take a confidence interval of 95%, we can assume values outside it to be abnormal.\n",
    "\n",
    "We can get the 95% confidence interval by getting the standard deviation of the replicate of the mean, also known as the  standard error of the mean (SEM). We then add & subtract 1.96 times the SEM to our mean to get our interval."
   ]
  },
  {
   "cell_type": "code",
   "execution_count": 20,
   "metadata": {},
   "outputs": [
    {
     "data": {
      "text/plain": [
       "0.06405661469519337"
      ]
     },
     "execution_count": 20,
     "metadata": {},
     "output_type": "execute_result"
    }
   ],
   "source": [
    "sem = temps_std/np.sqrt(temps_len)\n",
    "sem"
   ]
  },
  {
   "cell_type": "code",
   "execution_count": 23,
   "metadata": {},
   "outputs": [
    {
     "name": "stdout",
     "output_type": "stream",
     "text": [
      "98.12367980442816\n",
      "98.37478173403333\n"
     ]
    }
   ],
   "source": [
    "print(temps_mean - 1.96*sem)\n",
    "print(temps_mean + 1.96*sem)"
   ]
  },
  {
   "cell_type": "markdown",
   "metadata": {},
   "source": [
    "Anything below 98.12 degrees and above 98.37 degrees is considered abnormal.\n",
    "\n",
    "To do this with t statistics, we use the following equation:\n",
    "\n",
    "$\\bar x \\pm t^*(\\frac{s}{\\sqrt{n}})$\n",
    "\n",
    "where $t^*$ is the corresponding t-value for a 95% confidence interval, 1.98 in this case."
   ]
  },
  {
   "cell_type": "code",
   "execution_count": 33,
   "metadata": {},
   "outputs": [
    {
     "name": "stdout",
     "output_type": "stream",
     "text": [
      "98.37606286632723\n",
      "98.12239867213427\n"
     ]
    }
   ],
   "source": [
    "# Calculate upper and lower bounds of the interval\n",
    "upper = temps_mean + 1.98*(temps_std/np.sqrt(temps_len))\n",
    "lower = temps_mean - 1.98*(temps_std/np.sqrt(temps_len))\n",
    "\n",
    "print(upper)\n",
    "print(lower)"
   ]
  },
  {
   "cell_type": "markdown",
   "metadata": {},
   "source": [
    "## ** 6) Is there a significant difference between males and females in normal temperature? **"
   ]
  },
  {
   "cell_type": "markdown",
   "metadata": {},
   "source": [
    "- What testing approach did you use and why?\n",
    "- Write a story with your conclusion in the context of the original problem.\n",
    "    - The mean normal body temperature was held to be 37 ∘∘ C or 98.6 ∘∘ F for more than 120 years since it was first conceptualized and reported by Carl Wunderlich in a famous 1868 book. But, is this value statistically correct?"
   ]
  },
  {
   "cell_type": "code",
   "execution_count": 36,
   "metadata": {},
   "outputs": [],
   "source": [
    "# Split temperature data set into two by gender\n",
    "male_temps = df[df['gender'] == 'M']['temperature']\n",
    "female_temps = df[df['gender'] == 'F']['temperature']"
   ]
  },
  {
   "cell_type": "code",
   "execution_count": 38,
   "metadata": {},
   "outputs": [],
   "source": [
    "# Calculate statistics of each gender\n",
    "male_temps_len = len(male_temps)\n",
    "male_temps_mean = np.mean(male_temps)\n",
    "male_temps_std = np.std(male_temps)\n",
    "\n",
    "female_temps_len = len(female_temps)\n",
    "female_temps_mean = np.mean(female_temps)\n",
    "female_temps_std = np.std(female_temps)"
   ]
  },
  {
   "cell_type": "code",
   "execution_count": null,
   "metadata": {},
   "outputs": [],
   "source": []
  }
 ],
 "metadata": {
  "kernelspec": {
   "display_name": "Python 2",
   "language": "python",
   "name": "python2"
  },
  "language_info": {
   "codemirror_mode": {
    "name": "ipython",
    "version": 2
   },
   "file_extension": ".py",
   "mimetype": "text/x-python",
   "name": "python",
   "nbconvert_exporter": "python",
   "pygments_lexer": "ipython2",
   "version": "2.7.14"
  }
 },
 "nbformat": 4,
 "nbformat_minor": 1
}
